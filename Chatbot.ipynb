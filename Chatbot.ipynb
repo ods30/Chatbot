{
 "cells": [
  {
   "cell_type": "markdown",
   "metadata": {},
   "source": [
    "# Description\n",
    "\n",
    "Chatbot dataset based on a chatbot which it's purpose is to identify people in distress. \n",
    "\n",
    "The question the Chatbot asks is: 'Describe a time when you have acted as a resource for someone else'. According to the response of this specific question, a decision should be taken: refer to help or not.\n",
    "\n",
    "Note: the response indicates if the responder's friend needs help or not.\n",
    "\n",
    "For example:\n",
    "\n",
    "Q: 'Describe a time when you have acted as a resource for someone else' A: 'I saved a girl from suicide once. She was going to swallow a bunch of pills and I talked her out of it in a very calm, loving way.'\n",
    "\n",
    "This response marks as \"flagged\", therefore the response should be refer to professional help.\n",
    "\n",
    "Example for a not flagged response:\n",
    "\n",
    "Q: 'Describe a time when you have acted as a resource for someone else' A: 'i cant think of one really...i think i may have indirectly'\n",
    "\n",
    "\n",
    "# Goal\n",
    "\n",
    "The goal is to design and train a model which classify responses. \n",
    "\n",
    "# Data set limitation\n",
    "\n",
    "The data set is small (80 responses), therefore it probably does not cover all the patters for this goal.   \n",
    "\n",
    "# Implemantation \n",
    "\n",
    "I use pytorch for this classification problem\n"
   ]
  },
  {
   "cell_type": "code",
   "execution_count": 1,
   "metadata": {},
   "outputs": [],
   "source": [
    "import numpy as np\n",
    "import torch \n",
    "import pandas as pd\n",
    "from wordcloud import WordCloud, STOPWORDS\n",
    "import matplotlib.pyplot as plt\n",
    "import spacy as sp\n",
    "import en_core_web_sm\n",
    "from spacy import displacy\n",
    "import torch.nn.functional as F\n",
    "from torch import nn\n",
    "from torch.utils.data import Dataset , DataLoader\n",
    "import seaborn as sn"
   ]
  },
  {
   "cell_type": "markdown",
   "metadata": {},
   "source": [
    "# Basic data analysis , data cleaning and labeling\n"
   ]
  },
  {
   "cell_type": "code",
   "execution_count": 2,
   "metadata": {},
   "outputs": [],
   "source": [
    "df = pd.read_csv('Sheet_1.csv',encoding = \"utf-8\")"
   ]
  },
  {
   "cell_type": "code",
   "execution_count": 3,
   "metadata": {},
   "outputs": [
    {
     "data": {
      "text/html": [
       "<div>\n",
       "<style scoped>\n",
       "    .dataframe tbody tr th:only-of-type {\n",
       "        vertical-align: middle;\n",
       "    }\n",
       "\n",
       "    .dataframe tbody tr th {\n",
       "        vertical-align: top;\n",
       "    }\n",
       "\n",
       "    .dataframe thead th {\n",
       "        text-align: right;\n",
       "    }\n",
       "</style>\n",
       "<table border=\"1\" class=\"dataframe\">\n",
       "  <thead>\n",
       "    <tr style=\"text-align: right;\">\n",
       "      <th></th>\n",
       "      <th>response_id</th>\n",
       "      <th>class</th>\n",
       "      <th>response_text</th>\n",
       "      <th>Unnamed: 3</th>\n",
       "      <th>Unnamed: 4</th>\n",
       "      <th>Unnamed: 5</th>\n",
       "      <th>Unnamed: 6</th>\n",
       "      <th>Unnamed: 7</th>\n",
       "    </tr>\n",
       "  </thead>\n",
       "  <tbody>\n",
       "    <tr>\n",
       "      <th>0</th>\n",
       "      <td>response_1</td>\n",
       "      <td>not_flagged</td>\n",
       "      <td>I try and avoid this sort of conflict</td>\n",
       "      <td>NaN</td>\n",
       "      <td>NaN</td>\n",
       "      <td>NaN</td>\n",
       "      <td>NaN</td>\n",
       "      <td>NaN</td>\n",
       "    </tr>\n",
       "    <tr>\n",
       "      <th>1</th>\n",
       "      <td>response_2</td>\n",
       "      <td>flagged</td>\n",
       "      <td>Had a friend open up to me about his mental ad...</td>\n",
       "      <td>NaN</td>\n",
       "      <td>NaN</td>\n",
       "      <td>NaN</td>\n",
       "      <td>NaN</td>\n",
       "      <td>NaN</td>\n",
       "    </tr>\n",
       "    <tr>\n",
       "      <th>2</th>\n",
       "      <td>response_3</td>\n",
       "      <td>flagged</td>\n",
       "      <td>I saved a girl from suicide once. She was goin...</td>\n",
       "      <td>NaN</td>\n",
       "      <td>NaN</td>\n",
       "      <td>NaN</td>\n",
       "      <td>NaN</td>\n",
       "      <td>NaN</td>\n",
       "    </tr>\n",
       "    <tr>\n",
       "      <th>3</th>\n",
       "      <td>response_4</td>\n",
       "      <td>not_flagged</td>\n",
       "      <td>i cant think of one really...i think i may hav...</td>\n",
       "      <td>NaN</td>\n",
       "      <td>NaN</td>\n",
       "      <td>NaN</td>\n",
       "      <td>NaN</td>\n",
       "      <td>NaN</td>\n",
       "    </tr>\n",
       "    <tr>\n",
       "      <th>4</th>\n",
       "      <td>response_5</td>\n",
       "      <td>not_flagged</td>\n",
       "      <td>Only really one friend who doesn't fit into th...</td>\n",
       "      <td></td>\n",
       "      <td>NaN</td>\n",
       "      <td>NaN</td>\n",
       "      <td>NaN</td>\n",
       "      <td>NaN</td>\n",
       "    </tr>\n",
       "  </tbody>\n",
       "</table>\n",
       "</div>"
      ],
      "text/plain": [
       "  response_id        class                                      response_text  \\\n",
       "0  response_1  not_flagged              I try and avoid this sort of conflict   \n",
       "1  response_2      flagged  Had a friend open up to me about his mental ad...   \n",
       "2  response_3      flagged  I saved a girl from suicide once. She was goin...   \n",
       "3  response_4  not_flagged  i cant think of one really...i think i may hav...   \n",
       "4  response_5  not_flagged  Only really one friend who doesn't fit into th...   \n",
       "\n",
       "  Unnamed: 3  Unnamed: 4 Unnamed: 5  Unnamed: 6 Unnamed: 7  \n",
       "0        NaN         NaN        NaN         NaN        NaN  \n",
       "1        NaN         NaN        NaN         NaN        NaN  \n",
       "2        NaN         NaN        NaN         NaN        NaN  \n",
       "3        NaN         NaN        NaN         NaN        NaN  \n",
       "4                    NaN        NaN         NaN        NaN  "
      ]
     },
     "execution_count": 3,
     "metadata": {},
     "output_type": "execute_result"
    }
   ],
   "source": [
    "df.head()"
   ]
  },
  {
   "cell_type": "code",
   "execution_count": 4,
   "metadata": {},
   "outputs": [
    {
     "name": "stdout",
     "output_type": "stream",
     "text": [
      "<class 'pandas.core.frame.DataFrame'>\n",
      "RangeIndex: 80 entries, 0 to 79\n",
      "Data columns (total 8 columns):\n",
      "response_id      80 non-null object\n",
      "class            80 non-null object\n",
      "response_text    80 non-null object\n",
      "Unnamed: 3       2 non-null object\n",
      "Unnamed: 4       0 non-null float64\n",
      "Unnamed: 5       1 non-null object\n",
      "Unnamed: 6       0 non-null float64\n",
      "Unnamed: 7       1 non-null object\n",
      "dtypes: float64(2), object(6)\n",
      "memory usage: 5.1+ KB\n"
     ]
    }
   ],
   "source": [
    "df.info()"
   ]
  },
  {
   "cell_type": "markdown",
   "metadata": {},
   "source": [
    "## Data cleaning \n",
    "\n",
    "There are unused features is tis data set - Unnames:3 - 7. Most of them are Nan. I drop them."
   ]
  },
  {
   "cell_type": "code",
   "execution_count": 5,
   "metadata": {},
   "outputs": [],
   "source": [
    "df.drop(['response_id','Unnamed: 3','Unnamed: 4','Unnamed: 5','Unnamed: 6','Unnamed: 7'],axis=1, inplace=True)"
   ]
  },
  {
   "cell_type": "code",
   "execution_count": 6,
   "metadata": {},
   "outputs": [
    {
     "data": {
      "text/html": [
       "<div>\n",
       "<style scoped>\n",
       "    .dataframe tbody tr th:only-of-type {\n",
       "        vertical-align: middle;\n",
       "    }\n",
       "\n",
       "    .dataframe tbody tr th {\n",
       "        vertical-align: top;\n",
       "    }\n",
       "\n",
       "    .dataframe thead th {\n",
       "        text-align: right;\n",
       "    }\n",
       "</style>\n",
       "<table border=\"1\" class=\"dataframe\">\n",
       "  <thead>\n",
       "    <tr style=\"text-align: right;\">\n",
       "      <th></th>\n",
       "      <th>class</th>\n",
       "      <th>response_text</th>\n",
       "    </tr>\n",
       "  </thead>\n",
       "  <tbody>\n",
       "    <tr>\n",
       "      <th>0</th>\n",
       "      <td>not_flagged</td>\n",
       "      <td>I try and avoid this sort of conflict</td>\n",
       "    </tr>\n",
       "    <tr>\n",
       "      <th>1</th>\n",
       "      <td>flagged</td>\n",
       "      <td>Had a friend open up to me about his mental ad...</td>\n",
       "    </tr>\n",
       "    <tr>\n",
       "      <th>2</th>\n",
       "      <td>flagged</td>\n",
       "      <td>I saved a girl from suicide once. She was goin...</td>\n",
       "    </tr>\n",
       "    <tr>\n",
       "      <th>3</th>\n",
       "      <td>not_flagged</td>\n",
       "      <td>i cant think of one really...i think i may hav...</td>\n",
       "    </tr>\n",
       "    <tr>\n",
       "      <th>4</th>\n",
       "      <td>not_flagged</td>\n",
       "      <td>Only really one friend who doesn't fit into th...</td>\n",
       "    </tr>\n",
       "  </tbody>\n",
       "</table>\n",
       "</div>"
      ],
      "text/plain": [
       "         class                                      response_text\n",
       "0  not_flagged              I try and avoid this sort of conflict\n",
       "1      flagged  Had a friend open up to me about his mental ad...\n",
       "2      flagged  I saved a girl from suicide once. She was goin...\n",
       "3  not_flagged  i cant think of one really...i think i may hav...\n",
       "4  not_flagged  Only really one friend who doesn't fit into th..."
      ]
     },
     "execution_count": 6,
     "metadata": {},
     "output_type": "execute_result"
    }
   ],
   "source": [
    "df.head()"
   ]
  },
  {
   "cell_type": "markdown",
   "metadata": {},
   "source": [
    "## Data labeling\n",
    "\n",
    "I set the lables as follows: \n",
    "Flagged, which means that the response should be referred is set to 0 (which means it is not a \"good\" response).\n",
    "Flagged, which means that the response should not be referred is set to 1 (which means it is a \"good\" response)."
   ]
  },
  {
   "cell_type": "code",
   "execution_count": 7,
   "metadata": {},
   "outputs": [],
   "source": [
    "df.loc[df['class'] == 'flagged' , 'class'] = 0\n",
    "df.loc[df['class'] == 'not_flagged' , 'class'] = 1"
   ]
  },
  {
   "cell_type": "code",
   "execution_count": 8,
   "metadata": {},
   "outputs": [
    {
     "data": {
      "text/html": [
       "<div>\n",
       "<style scoped>\n",
       "    .dataframe tbody tr th:only-of-type {\n",
       "        vertical-align: middle;\n",
       "    }\n",
       "\n",
       "    .dataframe tbody tr th {\n",
       "        vertical-align: top;\n",
       "    }\n",
       "\n",
       "    .dataframe thead th {\n",
       "        text-align: right;\n",
       "    }\n",
       "</style>\n",
       "<table border=\"1\" class=\"dataframe\">\n",
       "  <thead>\n",
       "    <tr style=\"text-align: right;\">\n",
       "      <th></th>\n",
       "      <th>class</th>\n",
       "      <th>response_text</th>\n",
       "    </tr>\n",
       "  </thead>\n",
       "  <tbody>\n",
       "    <tr>\n",
       "      <th>0</th>\n",
       "      <td>1</td>\n",
       "      <td>I try and avoid this sort of conflict</td>\n",
       "    </tr>\n",
       "    <tr>\n",
       "      <th>1</th>\n",
       "      <td>0</td>\n",
       "      <td>Had a friend open up to me about his mental ad...</td>\n",
       "    </tr>\n",
       "    <tr>\n",
       "      <th>2</th>\n",
       "      <td>0</td>\n",
       "      <td>I saved a girl from suicide once. She was goin...</td>\n",
       "    </tr>\n",
       "    <tr>\n",
       "      <th>3</th>\n",
       "      <td>1</td>\n",
       "      <td>i cant think of one really...i think i may hav...</td>\n",
       "    </tr>\n",
       "    <tr>\n",
       "      <th>4</th>\n",
       "      <td>1</td>\n",
       "      <td>Only really one friend who doesn't fit into th...</td>\n",
       "    </tr>\n",
       "  </tbody>\n",
       "</table>\n",
       "</div>"
      ],
      "text/plain": [
       "  class                                      response_text\n",
       "0     1              I try and avoid this sort of conflict\n",
       "1     0  Had a friend open up to me about his mental ad...\n",
       "2     0  I saved a girl from suicide once. She was goin...\n",
       "3     1  i cant think of one really...i think i may hav...\n",
       "4     1  Only really one friend who doesn't fit into th..."
      ]
     },
     "execution_count": 8,
     "metadata": {},
     "output_type": "execute_result"
    }
   ],
   "source": [
    "df.head()"
   ]
  },
  {
   "cell_type": "markdown",
   "metadata": {},
   "source": [
    "Example of a flagged response:"
   ]
  },
  {
   "cell_type": "code",
   "execution_count": 9,
   "metadata": {},
   "outputs": [
    {
     "data": {
      "text/plain": [
       "'Had a friend open up to me about his mental addiction to weed and how it was taking over his life and making him depressed'"
      ]
     },
     "execution_count": 9,
     "metadata": {},
     "output_type": "execute_result"
    }
   ],
   "source": [
    "df[\"response_text\"][1]"
   ]
  },
  {
   "cell_type": "markdown",
   "metadata": {},
   "source": [
    "## Data exploration\n",
    "\n",
    "value counts, wordcloud which help to visualize the differnces between \"good\" and not \"good\" response."
   ]
  },
  {
   "cell_type": "code",
   "execution_count": 10,
   "metadata": {},
   "outputs": [
    {
     "data": {
      "image/png": "[encoded data removed]",
      "text/plain": [
       "<Figure size 432x288 with 1 Axes>"
      ]
     },
     "metadata": {
      "needs_background": "light"
     },
     "output_type": "display_data"
    }
   ],
   "source": [
    "pl = df['class'].value_counts(normalize=True).mul(100).plot(kind='bar')\n",
    "ay = pl.set_ylabel(\"%\")\n",
    "ax = pl.set_xlabel(\"Target value\")"
   ]
  },
  {
   "cell_type": "code",
   "execution_count": 11,
   "metadata": {},
   "outputs": [],
   "source": [
    "def wordcloud(dataframe ):\n",
    "    stopwords = set(STOPWORDS)\n",
    "    wordcloud = WordCloud(background_color=\"white\",stopwords=stopwords).generate(\" \".join([i for i in dataframe.str.upper()]))\n",
    "    plt.imshow(wordcloud)\n",
    " \n"
   ]
  },
  {
   "cell_type": "markdown",
   "metadata": {},
   "source": [
    "Not a \"good\" response:"
   ]
  },
  {
   "cell_type": "code",
   "execution_count": 12,
   "metadata": {},
   "outputs": [
    {
     "data": {
      "image/png": "[encoded data removed]",
      "text/plain": [
       "<Figure size 432x288 with 1 Axes>"
      ]
     },
     "metadata": {
      "needs_background": "light"
     },
     "output_type": "display_data"
    }
   ],
   "source": [
    "df0 = df[df['class'] == 0]\n",
    "wordcloud(df0['response_text'])"
   ]
  },
  {
   "cell_type": "markdown",
   "metadata": {},
   "source": [
    "\"good\" response:"
   ]
  },
  {
   "cell_type": "code",
   "execution_count": 13,
   "metadata": {},
   "outputs": [
    {
     "data": {
      "image/png": "[encoded data removed]",
      "text/plain": [
       "<Figure size 432x288 with 1 Axes>"
      ]
     },
     "metadata": {
      "needs_background": "light"
     },
     "output_type": "display_data"
    }
   ],
   "source": [
    "df1 = df[df['class'] == 1]\n",
    "wordcloud(df1['response_text'])"
   ]
  },
  {
   "cell_type": "markdown",
   "metadata": {},
   "source": [
    "We can see that the words: depression, help, addiction are significant in the not \"good\" responses. "
   ]
  },
  {
   "cell_type": "markdown",
   "metadata": {},
   "source": [
    "# Word2Vec using glove"
   ]
  },
  {
   "cell_type": "code",
   "execution_count": 14,
   "metadata": {},
   "outputs": [],
   "source": [
    "# Class for storing glove vocabulary + hash tables for indices and words.\n",
    "class Vocab:\n",
    "    def __init__(self, embeddings_file):\n",
    "        self.vec = []\n",
    "        self.word_count = 0\n",
    "        self.ind2word = {}\n",
    "        self.word2ind = {}\n",
    "        for line in open(embeddings_file,encoding=\"utf8\"):\n",
    "            values = line.split(\" \")\n",
    "            v = []\n",
    "            for i in range (1, len(values)):\n",
    "                v.append(float(values[i]))\n",
    "            self.vec.append(v)\n",
    "            self.ind2word[self.word_count] = values[0]\n",
    "            self.word2ind[values[0]] = self.word_count\n",
    "            self.word_count += 1"
   ]
  },
  {
   "cell_type": "code",
   "execution_count": 15,
   "metadata": {},
   "outputs": [],
   "source": [
    "lang = Vocab('glove.6B.300d.txt')"
   ]
  },
  {
   "cell_type": "code",
   "execution_count": 16,
   "metadata": {},
   "outputs": [
    {
     "name": "stdout",
     "output_type": "stream",
     "text": [
      "14714\n"
     ]
    }
   ],
   "source": [
    "print(lang.word2ind['sunrise'])"
   ]
  },
  {
   "cell_type": "code",
   "execution_count": 17,
   "metadata": {},
   "outputs": [
    {
     "name": "stdout",
     "output_type": "stream",
     "text": [
      "300\n"
     ]
    }
   ],
   "source": [
    "print(len(lang.vec[lang.word2ind['sunrise']]))"
   ]
  },
  {
   "cell_type": "markdown",
   "metadata": {},
   "source": [
    "# Preparing the data for training and test"
   ]
  },
  {
   "cell_type": "code",
   "execution_count": 18,
   "metadata": {},
   "outputs": [],
   "source": [
    "nlp = en_core_web_sm.load()"
   ]
  },
  {
   "cell_type": "code",
   "execution_count": 19,
   "metadata": {},
   "outputs": [],
   "source": [
    "#This function receives raw texr as input, turn it into spacy tokens and returns a tensor with the indices of the words in lang\n",
    "def text2tensor(text, vocab):\n",
    "    proc_sentence = nlp(text.lower())\n",
    "    indexes = []\n",
    "    for t in proc_sentence:\n",
    "        if t.text in vocab.word2ind:\n",
    "            indexes.append(vocab.word2ind[t.text])\n",
    "    input_tensor = torch.LongTensor(indexes)\n",
    "    return input_tensor"
   ]
  },
  {
   "cell_type": "code",
   "execution_count": 20,
   "metadata": {},
   "outputs": [],
   "source": [
    "s = \"It is a beautiful day.\""
   ]
  },
  {
   "cell_type": "code",
   "execution_count": 21,
   "metadata": {},
   "outputs": [
    {
     "data": {
      "text/plain": [
       "tensor([  20,   14,    7, 3366,  122,    2])"
      ]
     },
     "execution_count": 21,
     "metadata": {},
     "output_type": "execute_result"
    }
   ],
   "source": [
    "text2tensor(s,lang)"
   ]
  },
  {
   "cell_type": "code",
   "execution_count": 22,
   "metadata": {},
   "outputs": [],
   "source": [
    "#Every sentece  is processed\n",
    "proc_data = []\n",
    "labels = []"
   ]
  },
  {
   "cell_type": "code",
   "execution_count": 23,
   "metadata": {},
   "outputs": [],
   "source": [
    "def append_data(sentence):\n",
    "    proc_data.append(text2tensor(sentence,lang))\n",
    "def append_label(label):\n",
    "    labels.append(label)"
   ]
  },
  {
   "cell_type": "code",
   "execution_count": 24,
   "metadata": {},
   "outputs": [],
   "source": [
    "temp = df['response_text'].apply(append_data)\n",
    "temp = df['class'].apply(append_label)"
   ]
  },
  {
   "cell_type": "code",
   "execution_count": 25,
   "metadata": {},
   "outputs": [],
   "source": [
    "data_idx = []\n",
    "for i in range(0,len(labels)):\n",
    "    data_idx.append(i)"
   ]
  },
  {
   "cell_type": "code",
   "execution_count": 26,
   "metadata": {},
   "outputs": [],
   "source": [
    "# ChatbotDataset class inherites from pytorch Datset. \n",
    "#The data is stored as tensors. \n",
    "#I set x_data to be the indices of the proc_data\n",
    "\n",
    "class ChatbotDataset(Dataset):\n",
    "    def __init__(self , data_idx,labels):\n",
    "        \n",
    "        self.len = len(data_idx)\n",
    "        self.x_data = torch.from_numpy(np.asarray(data_idx))\n",
    "        self.y_data = torch.from_numpy(np.asarray(labels))\n",
    "    \n",
    "    def __getitem__(self,index):\n",
    "        return self.x_data[index] , self.y_data[index]\n",
    "    \n",
    "    def __len__(self):\n",
    "        return self.len\n",
    "    \n",
    "    def getratio(self):\n",
    "        return (self.y_data[self.y_data == 1].size()[0] / self.y_data.size()[0])"
   ]
  },
  {
   "cell_type": "code",
   "execution_count": 27,
   "metadata": {},
   "outputs": [],
   "source": [
    "ChatDataset = ChatbotDataset(data_idx,labels)"
   ]
  },
  {
   "cell_type": "code",
   "execution_count": 28,
   "metadata": {},
   "outputs": [],
   "source": [
    "# I split the data to train and test data\n",
    "train_size = int(0.8 * len(ChatDataset))\n",
    "test_size = len(ChatDataset) - train_size\n",
    "train_dataset, test_dataset = torch.utils.data.random_split(ChatDataset, [train_size, test_size])"
   ]
  },
  {
   "cell_type": "code",
   "execution_count": 29,
   "metadata": {},
   "outputs": [],
   "source": [
    "# I use DataLoader from PyTorch in order to make the dataset Iterative \n",
    "train_loader = DataLoader(dataset = train_dataset,\n",
    "                         batch_size = 1,\n",
    "                         shuffle = True,\n",
    "                         num_workers = 0)"
   ]
  },
  {
   "cell_type": "code",
   "execution_count": 30,
   "metadata": {},
   "outputs": [],
   "source": [
    "# I use DataLoader from PyTorch in order to make the dataset Iterative \n",
    "test_loader = DataLoader(dataset = test_dataset,\n",
    "                         batch_size = 1,\n",
    "                         shuffle = True,\n",
    "                         num_workers = 0)"
   ]
  },
  {
   "cell_type": "code",
   "execution_count": 31,
   "metadata": {
    "scrolled": true
   },
   "outputs": [
    {
     "name": "stdout",
     "output_type": "stream",
     "text": [
      "Size: 64\n",
      "Precentage of 'good' answers: 0.6875\n",
      "Precentage of 'bad' answers: 0.3125\n"
     ]
    },
    {
     "data": {
      "image/png": "[encoded data removed]",
      "text/plain": [
       "<Figure size 432x288 with 1 Axes>"
      ]
     },
     "metadata": {
      "needs_background": "light"
     },
     "output_type": "display_data"
    }
   ],
   "source": [
    "# I check if the train data and test data are divided in the same way. \n",
    "train_labels = []\n",
    "for i, data in enumerate(train_loader, 0):\n",
    "    # get the inputs\n",
    "    inputs , labels = data\n",
    "    train_labels.append(labels.item())\n",
    "print (\"Size:\", len(train_labels))\n",
    "print (\"Precentage of 'good' answers:\", train_labels.count(1) /len(train_labels) )\n",
    "print (\"Precentage of 'bad' answers:\", train_labels.count(0) /len(train_labels) )\n",
    "temp = plt.hist(train_labels)\n"
   ]
  },
  {
   "cell_type": "code",
   "execution_count": 32,
   "metadata": {},
   "outputs": [
    {
     "name": "stdout",
     "output_type": "stream",
     "text": [
      "Size: 16\n",
      "Percentage of 'good' answers: 0.6875\n",
      "Percentage of 'bad' answers: 0.3125\n"
     ]
    },
    {
     "data": {
      "image/png": "[encoded data removed]",
      "text/plain": [
       "<Figure size 432x288 with 1 Axes>"
      ]
     },
     "metadata": {
      "needs_background": "light"
     },
     "output_type": "display_data"
    }
   ],
   "source": [
    "# I check if the train data and test data are divided in the same way. \n",
    "test_labels = []\n",
    "for i, data in enumerate(test_loader, 0):\n",
    "    # get the inputs\n",
    "    inputs , labels = data\n",
    "    test_labels.append(labels.item())\n",
    "print (\"Size:\", len(test_labels))\n",
    "print (\"Percentage of 'good' answers:\", test_labels.count(1) /len(test_labels) )\n",
    "print (\"Percentage of 'bad' answers:\", test_labels.count(0) /len(test_labels) )\n",
    "temp = plt.hist(test_labels)"
   ]
  },
  {
   "cell_type": "markdown",
   "metadata": {},
   "source": [
    "# Evaluation parameters\n",
    "\n",
    "TP: predicted to refer to response, and there is a need to refer it. \n",
    "\n",
    "TN: predicted not to refer the response, and there is no need to refer it.\n",
    "\n",
    "Accuracy: the score rate. \n",
    "\n",
    "Precision: responses that should not be referred, are referred. Indicates low risk estimator. \n",
    "\n",
    "Recall: responses that should be referred are not referred. This an unwanted result. There is a risk to miss people who needs help. "
   ]
  },
  {
   "cell_type": "markdown",
   "metadata": {},
   "source": [
    "# NN model\n",
    "\n",
    "The model architecture is: \n",
    "\n",
    "* Word2Vec using glove is the embedding layer (the weights are the vectors). Every vector is in size 300. \n",
    "* LSTM 3 layer. Hidden size is 256, bidirectional. \n",
    "* FC layer - [512X50]. 512 is the size of the last hidden layers * num_of_directions.\n",
    "* Output layer - [50X1]. \n",
    "\n",
    "I use BCEWithLogitsLoss() loss function - therefore I dont need to add sigmoid after the output layer (it is include in the loss function). \n",
    "\n",
    "I use SGD optimizer with learning rate = 0.001 and momentum = 0.9\n"
   ]
  },
  {
   "cell_type": "code",
   "execution_count": 33,
   "metadata": {},
   "outputs": [],
   "source": [
    "class Chatbot(nn.Module):\n",
    "    \n",
    "    def __init__(self, vocab, hidden_size, output_size, n_layers, num_directions):\n",
    "        \n",
    "        super(Chatbot, self).__init__()\n",
    "        self.hidden_size = hidden_size\n",
    "        self.output_size = output_size\n",
    "        self.n_layers = n_layers\n",
    "        self.num_directions = num_directions   \n",
    "        self.embedding = nn.Embedding(vocab.word_count, len(vocab.vec[0]))\n",
    "        self.embedding.weight = nn.Parameter(torch.FloatTensor(vocab.vec))\n",
    "        \n",
    "        if (num_directions == 2):\n",
    "            self.bidirectional = True\n",
    "        else:\n",
    "            self.bidirectional = False\n",
    "            \n",
    "        self.lstm = nn.LSTM(len(vocab.vec[0]), hidden_size, n_layers, bidirectional=self.bidirectional)\n",
    "        self.l1 = nn.Linear(hidden_size*self.num_directions, 50) \n",
    "        self.out = nn.Linear(50, self.output_size) \n",
    "    \n",
    "    def forward(self, input_text):\n",
    "        \n",
    "        input_text = proc_data[input_text]\n",
    "        seq_len = len(input_text)\n",
    "        embedded_words = self.embedding(input_text).view(seq_len, 1, -1)\n",
    "        initial_hidden = self.init_hidden()\n",
    "        rnn_outputs, hidden = self.lstm(embedded_words, initial_hidden)\n",
    "        output = rnn_outputs[-1,0,:] \n",
    "        output = self.l1(output)\n",
    "        output = self.out(output)\n",
    "        \n",
    "        return output\n",
    "    \n",
    "    \n",
    "    def init_hidden(self):\n",
    "        return (torch.zeros(self.n_layers*self.num_directions, 1, self.hidden_size),\n",
    "                    torch.zeros(self.n_layers*self.num_directions, 1, self.hidden_size)) # hidden and cell states\n",
    "    \n",
    "    #This function is for debug purpose.     \n",
    "    def get_hidden(self, input_text):\n",
    "        input_text = proc_data[input_text]\n",
    "        seq_len = len(input_text)\n",
    "        embedded_words = self.embedding(input_text).view(seq_len, 1, -1)\n",
    "        initial_hidden = self.init_hidden()\n",
    "        rnn_outputs, hidden = self.lstm(embedded_words, initial_hidden)\n",
    "        return rnn_outputs, hidden"
   ]
  },
  {
   "cell_type": "code",
   "execution_count": 34,
   "metadata": {},
   "outputs": [],
   "source": [
    "# A function for calculating test loss.\n",
    "def test_loss_calculation(network, test_data, criterion ,optimizer):\n",
    "    running_loss = 0.0\n",
    "    with torch.no_grad():\n",
    "        for i, data in enumerate(test_data, 0):\n",
    "            inputs, labels = data\n",
    "            # forward only\n",
    "            outputs = network(inputs)\n",
    "            loss_test = criterion(outputs.double(), labels.double())\n",
    "            # print statistics\n",
    "            running_loss += loss_test.item()\n",
    "        return (running_loss / i)"
   ]
  },
  {
   "cell_type": "code",
   "execution_count": 35,
   "metadata": {},
   "outputs": [],
   "source": [
    "# A function for calculating eval results.\n",
    "def return_evals_and_lables(network, test_data, criterion ,optimizer ,thr = 0.5):\n",
    "    eval_list = []\n",
    "    labels_list = []\n",
    "    sig = nn.Sigmoid()\n",
    "    with torch.no_grad():\n",
    "        for i, data in enumerate(test_data, 0):\n",
    "            inputs, labels = data\n",
    "            # forward only\n",
    "            outputs = network(inputs)\n",
    "            if outputs.item() > thr:\n",
    "                eval_list.append(1)\n",
    "            else:\n",
    "                eval_list.append(0)\n",
    "            labels_list.append(labels.item())\n",
    "    return eval_list , labels_list"
   ]
  },
  {
   "cell_type": "code",
   "execution_count": 36,
   "metadata": {},
   "outputs": [],
   "source": [
    "from sklearn.metrics import confusion_matrix\n",
    "\n",
    "# A function for printing and caluate evaluation results.\n",
    "def print_model_results(y,y_pred):\n",
    "    cm = confusion_matrix(y, y_pred)\n",
    "    tp = cm[0,0]\n",
    "    tn = cm[1,1]\n",
    "    fn = cm[0,1]\n",
    "    fp = cm[1,0]\n",
    "    acc = (tp + tn) / (tp + tn + fn + fp)\n",
    "    print (\"Accuracy:\", acc )\n",
    "    if ((tp + fp) != 0):\n",
    "        prec = tp / (tp + fp)\n",
    "        print (\"Precision:\", prec )\n",
    "    else:\n",
    "        print (\"Precision:\", '0' )\n",
    "    if ((tp + fn) != 0):\n",
    "        recall = tp / (tp + fn)\n",
    "        print (\"Recall:\", recall )\n",
    "    else:\n",
    "        print (\"Recall:\", '0' )"
   ]
  },
  {
   "cell_type": "code",
   "execution_count": 37,
   "metadata": {},
   "outputs": [],
   "source": [
    "#Train function. It prints the train loss and test loss during the training. \n",
    "def train(network ,train_data,test_data,input_criterion,input_optimizer , num_epochs=1 , print_running_loss = 0):\n",
    "    epoch_list = []\n",
    "    training_loss_list = []\n",
    "    test_loss_list = []\n",
    "    \n",
    "    for epoch in range(num_epochs):  \n",
    "        running_loss = 0.0\n",
    "        training_loss = 0.0\n",
    "        for i, data in enumerate(train_data, 0):\n",
    "            # get the inputs\n",
    "            inputs , labels = data\n",
    "            # zero the parameter gradients\n",
    "            input_optimizer.zero_grad()\n",
    "            # forward + backward + optimize\n",
    "            outputs = network(inputs)\n",
    "            loss = input_criterion(outputs.double(), labels.double())\n",
    "            loss.backward()\n",
    "            input_optimizer.step()\n",
    "\n",
    "            training_loss += loss.item()\n",
    "            # print statistics\n",
    "            if (print_running_loss == 1):\n",
    "                running_loss += loss.item()\n",
    "                if i % 10 == 0:    \n",
    "                    print('[%d, %5d] loss: %.3f' % (epoch + 1, i + 1, running_loss / 10))\n",
    "                    running_loss = 0.0        \n",
    "        epoch_list.append(epoch + 1)\n",
    "        training_loss_list.append(training_loss/i)\n",
    "        test_loss = test_loss_calculation(network, test_data, input_criterion ,input_optimizer)\n",
    "        test_loss_list.append(test_loss)\n",
    "        print('Epoch %d ===> train loss: %.3f, test loss: %.3f ' %(epoch + 1,training_loss / i, test_loss))\n",
    "        \n",
    "    return epoch_list, training_loss_list , test_loss_list\n",
    "        "
   ]
  },
  {
   "cell_type": "code",
   "execution_count": 38,
   "metadata": {},
   "outputs": [],
   "source": [
    "#Model paramets as explained above and instanstation \n",
    "n_layers = 3\n",
    "hidden_size = 256 \n",
    "output_size = 1\n",
    "num_directions = 2\n",
    "\n",
    "model = Chatbot(lang, hidden_size, output_size, n_layers , num_directions)"
   ]
  },
  {
   "cell_type": "code",
   "execution_count": 39,
   "metadata": {},
   "outputs": [
    {
     "data": {
      "text/plain": [
       "Chatbot(\n",
       "  (embedding): Embedding(400000, 300)\n",
       "  (lstm): LSTM(300, 256, num_layers=3, bidirectional=True)\n",
       "  (l1): Linear(in_features=512, out_features=50, bias=True)\n",
       "  (out): Linear(in_features=50, out_features=1, bias=True)\n",
       ")"
      ]
     },
     "execution_count": 39,
     "metadata": {},
     "output_type": "execute_result"
    }
   ],
   "source": [
    "model"
   ]
  },
  {
   "cell_type": "code",
   "execution_count": 40,
   "metadata": {},
   "outputs": [],
   "source": [
    "criterion = nn.BCEWithLogitsLoss()"
   ]
  },
  {
   "cell_type": "code",
   "execution_count": 41,
   "metadata": {},
   "outputs": [],
   "source": [
    "optimizer = torch.optim.SGD(model.parameters(), lr=0.001, momentum=0.9)"
   ]
  },
  {
   "cell_type": "markdown",
   "metadata": {},
   "source": [
    "## Training"
   ]
  },
  {
   "cell_type": "code",
   "execution_count": 42,
   "metadata": {
    "scrolled": false
   },
   "outputs": [
    {
     "name": "stdout",
     "output_type": "stream",
     "text": [
      "Epoch 1 ===> train loss: 0.697, test loss: 0.718 \n",
      "Epoch 2 ===> train loss: 0.673, test loss: 0.697 \n",
      "Epoch 3 ===> train loss: 0.657, test loss: 0.683 \n",
      "Epoch 4 ===> train loss: 0.648, test loss: 0.676 \n",
      "Epoch 5 ===> train loss: 0.642, test loss: 0.670 \n",
      "Epoch 6 ===> train loss: 0.639, test loss: 0.667 \n",
      "Epoch 7 ===> train loss: 0.637, test loss: 0.666 \n",
      "Epoch 8 ===> train loss: 0.635, test loss: 0.665 \n",
      "Epoch 9 ===> train loss: 0.635, test loss: 0.664 \n",
      "Epoch 10 ===> train loss: 0.635, test loss: 0.664 \n",
      "Epoch 11 ===> train loss: 0.633, test loss: 0.664 \n",
      "Epoch 12 ===> train loss: 0.633, test loss: 0.663 \n",
      "Epoch 13 ===> train loss: 0.632, test loss: 0.663 \n",
      "Epoch 14 ===> train loss: 0.632, test loss: 0.663 \n",
      "Epoch 15 ===> train loss: 0.632, test loss: 0.663 \n",
      "Epoch 16 ===> train loss: 0.634, test loss: 0.663 \n",
      "Epoch 17 ===> train loss: 0.632, test loss: 0.663 \n",
      "Epoch 18 ===> train loss: 0.632, test loss: 0.663 \n",
      "Epoch 19 ===> train loss: 0.634, test loss: 0.663 \n",
      "Epoch 20 ===> train loss: 0.632, test loss: 0.663 \n",
      "Epoch 21 ===> train loss: 0.632, test loss: 0.663 \n",
      "Epoch 22 ===> train loss: 0.632, test loss: 0.663 \n",
      "Epoch 23 ===> train loss: 0.632, test loss: 0.663 \n",
      "Epoch 24 ===> train loss: 0.631, test loss: 0.663 \n",
      "Epoch 25 ===> train loss: 0.632, test loss: 0.663 \n",
      "Epoch 26 ===> train loss: 0.631, test loss: 0.663 \n",
      "Epoch 27 ===> train loss: 0.632, test loss: 0.663 \n",
      "Epoch 28 ===> train loss: 0.632, test loss: 0.663 \n",
      "Epoch 29 ===> train loss: 0.633, test loss: 0.663 \n",
      "Epoch 30 ===> train loss: 0.631, test loss: 0.662 \n",
      "Epoch 31 ===> train loss: 0.632, test loss: 0.663 \n",
      "Epoch 32 ===> train loss: 0.634, test loss: 0.662 \n",
      "Epoch 33 ===> train loss: 0.631, test loss: 0.663 \n",
      "Epoch 34 ===> train loss: 0.630, test loss: 0.662 \n",
      "Epoch 35 ===> train loss: 0.632, test loss: 0.662 \n",
      "Epoch 36 ===> train loss: 0.631, test loss: 0.662 \n",
      "Epoch 37 ===> train loss: 0.630, test loss: 0.662 \n",
      "Epoch 38 ===> train loss: 0.631, test loss: 0.662 \n",
      "Epoch 39 ===> train loss: 0.631, test loss: 0.662 \n",
      "Epoch 40 ===> train loss: 0.630, test loss: 0.662 \n",
      "Epoch 41 ===> train loss: 0.631, test loss: 0.662 \n",
      "Epoch 42 ===> train loss: 0.630, test loss: 0.662 \n",
      "Epoch 43 ===> train loss: 0.630, test loss: 0.662 \n",
      "Epoch 44 ===> train loss: 0.630, test loss: 0.662 \n",
      "Epoch 45 ===> train loss: 0.630, test loss: 0.662 \n",
      "Epoch 46 ===> train loss: 0.630, test loss: 0.662 \n",
      "Epoch 47 ===> train loss: 0.630, test loss: 0.662 \n",
      "Epoch 48 ===> train loss: 0.630, test loss: 0.662 \n",
      "Epoch 49 ===> train loss: 0.629, test loss: 0.662 \n",
      "Epoch 50 ===> train loss: 0.629, test loss: 0.662 \n",
      "Epoch 51 ===> train loss: 0.630, test loss: 0.662 \n",
      "Epoch 52 ===> train loss: 0.630, test loss: 0.662 \n",
      "Epoch 53 ===> train loss: 0.629, test loss: 0.661 \n",
      "Epoch 54 ===> train loss: 0.629, test loss: 0.661 \n",
      "Epoch 55 ===> train loss: 0.629, test loss: 0.661 \n",
      "Epoch 56 ===> train loss: 0.630, test loss: 0.661 \n",
      "Epoch 57 ===> train loss: 0.629, test loss: 0.661 \n",
      "Epoch 58 ===> train loss: 0.629, test loss: 0.661 \n",
      "Epoch 59 ===> train loss: 0.628, test loss: 0.661 \n",
      "Epoch 60 ===> train loss: 0.628, test loss: 0.661 \n",
      "Epoch 61 ===> train loss: 0.629, test loss: 0.661 \n",
      "Epoch 62 ===> train loss: 0.628, test loss: 0.661 \n",
      "Epoch 63 ===> train loss: 0.627, test loss: 0.661 \n",
      "Epoch 64 ===> train loss: 0.630, test loss: 0.660 \n",
      "Epoch 65 ===> train loss: 0.627, test loss: 0.660 \n",
      "Epoch 66 ===> train loss: 0.627, test loss: 0.660 \n",
      "Epoch 67 ===> train loss: 0.627, test loss: 0.660 \n",
      "Epoch 68 ===> train loss: 0.628, test loss: 0.660 \n",
      "Epoch 69 ===> train loss: 0.627, test loss: 0.660 \n",
      "Epoch 70 ===> train loss: 0.626, test loss: 0.660 \n",
      "Epoch 71 ===> train loss: 0.627, test loss: 0.659 \n",
      "Epoch 72 ===> train loss: 0.625, test loss: 0.659 \n",
      "Epoch 73 ===> train loss: 0.627, test loss: 0.659 \n",
      "Epoch 74 ===> train loss: 0.625, test loss: 0.659 \n",
      "Epoch 75 ===> train loss: 0.625, test loss: 0.659 \n",
      "Epoch 76 ===> train loss: 0.624, test loss: 0.658 \n",
      "Epoch 77 ===> train loss: 0.625, test loss: 0.658 \n",
      "Epoch 78 ===> train loss: 0.624, test loss: 0.658 \n",
      "Epoch 79 ===> train loss: 0.624, test loss: 0.657 \n",
      "Epoch 80 ===> train loss: 0.622, test loss: 0.657 \n",
      "Epoch 81 ===> train loss: 0.621, test loss: 0.657 \n",
      "Epoch 82 ===> train loss: 0.622, test loss: 0.657 \n",
      "Epoch 83 ===> train loss: 0.621, test loss: 0.656 \n",
      "Epoch 84 ===> train loss: 0.618, test loss: 0.655 \n",
      "Epoch 85 ===> train loss: 0.621, test loss: 0.656 \n",
      "Epoch 86 ===> train loss: 0.618, test loss: 0.654 \n",
      "Epoch 87 ===> train loss: 0.614, test loss: 0.653 \n",
      "Epoch 88 ===> train loss: 0.613, test loss: 0.653 \n",
      "Epoch 89 ===> train loss: 0.614, test loss: 0.652 \n",
      "Epoch 90 ===> train loss: 0.609, test loss: 0.651 \n",
      "Epoch 91 ===> train loss: 0.606, test loss: 0.649 \n",
      "Epoch 92 ===> train loss: 0.604, test loss: 0.648 \n",
      "Epoch 93 ===> train loss: 0.600, test loss: 0.646 \n",
      "Epoch 94 ===> train loss: 0.598, test loss: 0.644 \n",
      "Epoch 95 ===> train loss: 0.591, test loss: 0.643 \n",
      "Epoch 96 ===> train loss: 0.589, test loss: 0.640 \n",
      "Epoch 97 ===> train loss: 0.577, test loss: 0.637 \n",
      "Epoch 98 ===> train loss: 0.572, test loss: 0.635 \n",
      "Epoch 99 ===> train loss: 0.553, test loss: 0.627 \n",
      "Epoch 100 ===> train loss: 0.542, test loss: 0.623 \n",
      "Epoch 101 ===> train loss: 0.524, test loss: 0.626 \n",
      "Epoch 102 ===> train loss: 0.492, test loss: 0.612 \n",
      "Epoch 103 ===> train loss: 0.473, test loss: 0.617 \n",
      "Epoch 104 ===> train loss: 0.410, test loss: 0.771 \n",
      "Epoch 105 ===> train loss: 0.419, test loss: 0.622 \n",
      "Epoch 106 ===> train loss: 0.382, test loss: 0.749 \n",
      "Epoch 107 ===> train loss: 0.359, test loss: 0.726 \n",
      "Epoch 108 ===> train loss: 0.316, test loss: 0.882 \n",
      "Epoch 109 ===> train loss: 0.377, test loss: 0.739 \n",
      "Epoch 110 ===> train loss: 0.305, test loss: 0.855 \n",
      "Epoch 111 ===> train loss: 0.248, test loss: 0.731 \n",
      "Epoch 112 ===> train loss: 0.209, test loss: 0.784 \n",
      "Epoch 113 ===> train loss: 0.187, test loss: 0.832 \n",
      "Epoch 114 ===> train loss: 0.150, test loss: 0.919 \n",
      "Epoch 115 ===> train loss: 0.164, test loss: 0.901 \n",
      "Epoch 116 ===> train loss: 0.215, test loss: 1.059 \n",
      "Epoch 117 ===> train loss: 0.169, test loss: 0.910 \n",
      "Epoch 118 ===> train loss: 0.115, test loss: 1.047 \n",
      "Epoch 119 ===> train loss: 0.088, test loss: 1.465 \n",
      "Epoch 120 ===> train loss: 0.214, test loss: 1.010 \n",
      "Epoch 121 ===> train loss: 0.071, test loss: 1.204 \n",
      "Epoch 122 ===> train loss: 0.082, test loss: 1.242 \n",
      "Epoch 123 ===> train loss: 0.039, test loss: 1.331 \n",
      "Epoch 124 ===> train loss: 0.026, test loss: 1.223 \n",
      "Epoch 125 ===> train loss: 0.017, test loss: 1.561 \n",
      "Epoch 126 ===> train loss: 0.019, test loss: 1.394 \n",
      "Epoch 127 ===> train loss: 0.013, test loss: 1.388 \n",
      "Epoch 128 ===> train loss: 0.013, test loss: 1.512 \n",
      "Epoch 129 ===> train loss: 0.032, test loss: 1.502 \n",
      "Epoch 130 ===> train loss: 0.204, test loss: 1.860 \n",
      "Epoch 131 ===> train loss: 0.239, test loss: 1.096 \n",
      "Epoch 132 ===> train loss: 0.024, test loss: 1.177 \n",
      "Epoch 133 ===> train loss: 0.016, test loss: 1.409 \n",
      "Epoch 134 ===> train loss: 0.014, test loss: 1.337 \n",
      "Epoch 135 ===> train loss: 0.012, test loss: 1.383 \n",
      "Epoch 136 ===> train loss: 0.010, test loss: 1.419 \n",
      "Epoch 137 ===> train loss: 0.008, test loss: 1.527 \n",
      "Epoch 138 ===> train loss: 0.008, test loss: 1.552 \n",
      "Epoch 139 ===> train loss: 0.007, test loss: 1.537 \n",
      "Epoch 140 ===> train loss: 0.006, test loss: 1.608 \n",
      "Epoch 141 ===> train loss: 0.006, test loss: 1.631 \n",
      "Epoch 142 ===> train loss: 0.006, test loss: 1.692 \n",
      "Epoch 143 ===> train loss: 0.005, test loss: 1.654 \n",
      "Epoch 144 ===> train loss: 0.005, test loss: 1.690 \n",
      "Epoch 145 ===> train loss: 0.004, test loss: 1.713 \n",
      "Epoch 146 ===> train loss: 0.004, test loss: 1.722 \n",
      "Epoch 147 ===> train loss: 0.004, test loss: 1.737 \n",
      "Epoch 148 ===> train loss: 0.004, test loss: 1.763 \n",
      "Epoch 149 ===> train loss: 0.004, test loss: 1.786 \n",
      "Epoch 150 ===> train loss: 0.004, test loss: 1.796 \n",
      "Epoch 151 ===> train loss: 0.003, test loss: 1.818 \n",
      "Epoch 152 ===> train loss: 0.003, test loss: 1.819 \n",
      "Epoch 153 ===> train loss: 0.003, test loss: 1.842 \n",
      "Epoch 154 ===> train loss: 0.003, test loss: 1.848 \n",
      "Epoch 155 ===> train loss: 0.003, test loss: 1.856 \n",
      "Epoch 156 ===> train loss: 0.003, test loss: 1.893 \n",
      "Epoch 157 ===> train loss: 0.003, test loss: 1.885 \n",
      "Epoch 158 ===> train loss: 0.003, test loss: 1.904 \n",
      "Epoch 159 ===> train loss: 0.003, test loss: 1.920 \n"
     ]
    },
    {
     "name": "stdout",
     "output_type": "stream",
     "text": [
      "Epoch 160 ===> train loss: 0.003, test loss: 1.928 \n"
     ]
    }
   ],
   "source": [
    "\n",
    "epoch_l, training_loss_l , test_loss_l = train(model ,train_loader,test_loader, criterion , optimizer , num_epochs=160)\n"
   ]
  },
  {
   "cell_type": "markdown",
   "metadata": {},
   "source": [
    "## Number of epochs optimization"
   ]
  },
  {
   "cell_type": "code",
   "execution_count": 43,
   "metadata": {},
   "outputs": [
    {
     "data": {
      "image/png": "[encoded data removed]",
      "text/plain": [
       "<Figure size 432x288 with 1 Axes>"
      ]
     },
     "metadata": {
      "needs_background": "light"
     },
     "output_type": "display_data"
    }
   ],
   "source": [
    "training_plt, = plt.plot(epoch_l, training_loss_l, 'r') # plotting t, a separately \n",
    "test_plt, = plt.plot(epoch_l,test_loss_l, 'b') # plotting t, b separately \n",
    "plt.legend([training_plt, test_plt],[\"Train loss\",\"Test loss\"])\n",
    "plt.xlabel(\"Num of epochs\")\n",
    "plt.ylabel(\"Loss\")\n",
    "plt.show()"
   ]
  },
  {
   "cell_type": "markdown",
   "metadata": {},
   "source": [
    "We can see that after ~100 epochs, test loss is increasing. This is the point when the model starts to overfit. In order optimize the model, i retrain it with number_of epochs = 80."
   ]
  },
  {
   "cell_type": "markdown",
   "metadata": {},
   "source": [
    "## Retrain"
   ]
  },
  {
   "cell_type": "code",
   "execution_count": 44,
   "metadata": {},
   "outputs": [],
   "source": [
    "#delete the model and other objects in order to release memory\n",
    "del model\n",
    "del criterion\n",
    "del optimizer"
   ]
  },
  {
   "cell_type": "code",
   "execution_count": 48,
   "metadata": {},
   "outputs": [],
   "source": [
    "n_layers = 3\n",
    "hidden_size = 256 \n",
    "output_size = 1\n",
    "num_directions = 2\n",
    "\n",
    "opt_model = Chatbot(lang, hidden_size, output_size, n_layers , num_directions)\n",
    "opt_criterion = nn.BCEWithLogitsLoss()\n",
    "opt_optimizer = torch.optim.SGD(opt_model.parameters(), lr=0.001, momentum=0.9)"
   ]
  },
  {
   "cell_type": "code",
   "execution_count": 49,
   "metadata": {},
   "outputs": [
    {
     "name": "stdout",
     "output_type": "stream",
     "text": [
      "Epoch 1 ===> train loss: 0.692, test loss: 0.715 \n",
      "Epoch 2 ===> train loss: 0.672, test loss: 0.695 \n",
      "Epoch 3 ===> train loss: 0.655, test loss: 0.681 \n",
      "Epoch 4 ===> train loss: 0.647, test loss: 0.676 \n",
      "Epoch 5 ===> train loss: 0.641, test loss: 0.671 \n",
      "Epoch 6 ===> train loss: 0.637, test loss: 0.668 \n",
      "Epoch 7 ===> train loss: 0.635, test loss: 0.666 \n",
      "Epoch 8 ===> train loss: 0.635, test loss: 0.666 \n",
      "Epoch 9 ===> train loss: 0.634, test loss: 0.664 \n",
      "Epoch 10 ===> train loss: 0.635, test loss: 0.664 \n",
      "Epoch 11 ===> train loss: 0.633, test loss: 0.664 \n",
      "Epoch 12 ===> train loss: 0.633, test loss: 0.663 \n",
      "Epoch 13 ===> train loss: 0.632, test loss: 0.663 \n",
      "Epoch 14 ===> train loss: 0.632, test loss: 0.663 \n",
      "Epoch 15 ===> train loss: 0.632, test loss: 0.663 \n",
      "Epoch 16 ===> train loss: 0.633, test loss: 0.663 \n",
      "Epoch 17 ===> train loss: 0.632, test loss: 0.663 \n",
      "Epoch 18 ===> train loss: 0.632, test loss: 0.663 \n",
      "Epoch 19 ===> train loss: 0.632, test loss: 0.663 \n",
      "Epoch 20 ===> train loss: 0.632, test loss: 0.663 \n",
      "Epoch 21 ===> train loss: 0.632, test loss: 0.663 \n",
      "Epoch 22 ===> train loss: 0.632, test loss: 0.663 \n",
      "Epoch 23 ===> train loss: 0.632, test loss: 0.663 \n",
      "Epoch 24 ===> train loss: 0.633, test loss: 0.663 \n",
      "Epoch 25 ===> train loss: 0.632, test loss: 0.663 \n",
      "Epoch 26 ===> train loss: 0.632, test loss: 0.663 \n",
      "Epoch 27 ===> train loss: 0.632, test loss: 0.663 \n",
      "Epoch 28 ===> train loss: 0.632, test loss: 0.663 \n",
      "Epoch 29 ===> train loss: 0.631, test loss: 0.663 \n",
      "Epoch 30 ===> train loss: 0.632, test loss: 0.663 \n",
      "Epoch 31 ===> train loss: 0.632, test loss: 0.663 \n",
      "Epoch 32 ===> train loss: 0.632, test loss: 0.663 \n",
      "Epoch 33 ===> train loss: 0.632, test loss: 0.663 \n",
      "Epoch 34 ===> train loss: 0.631, test loss: 0.663 \n",
      "Epoch 35 ===> train loss: 0.630, test loss: 0.663 \n",
      "Epoch 36 ===> train loss: 0.632, test loss: 0.663 \n",
      "Epoch 37 ===> train loss: 0.631, test loss: 0.663 \n",
      "Epoch 38 ===> train loss: 0.632, test loss: 0.663 \n",
      "Epoch 39 ===> train loss: 0.631, test loss: 0.663 \n",
      "Epoch 40 ===> train loss: 0.631, test loss: 0.663 \n",
      "Epoch 41 ===> train loss: 0.631, test loss: 0.662 \n",
      "Epoch 42 ===> train loss: 0.631, test loss: 0.662 \n",
      "Epoch 43 ===> train loss: 0.631, test loss: 0.662 \n",
      "Epoch 44 ===> train loss: 0.631, test loss: 0.662 \n",
      "Epoch 45 ===> train loss: 0.631, test loss: 0.662 \n",
      "Epoch 46 ===> train loss: 0.631, test loss: 0.662 \n",
      "Epoch 47 ===> train loss: 0.632, test loss: 0.662 \n",
      "Epoch 48 ===> train loss: 0.630, test loss: 0.662 \n",
      "Epoch 49 ===> train loss: 0.631, test loss: 0.662 \n",
      "Epoch 50 ===> train loss: 0.630, test loss: 0.662 \n",
      "Epoch 51 ===> train loss: 0.630, test loss: 0.662 \n",
      "Epoch 52 ===> train loss: 0.631, test loss: 0.662 \n",
      "Epoch 53 ===> train loss: 0.631, test loss: 0.662 \n",
      "Epoch 54 ===> train loss: 0.630, test loss: 0.662 \n",
      "Epoch 55 ===> train loss: 0.629, test loss: 0.662 \n",
      "Epoch 56 ===> train loss: 0.629, test loss: 0.662 \n",
      "Epoch 57 ===> train loss: 0.631, test loss: 0.662 \n",
      "Epoch 58 ===> train loss: 0.629, test loss: 0.662 \n",
      "Epoch 59 ===> train loss: 0.630, test loss: 0.662 \n",
      "Epoch 60 ===> train loss: 0.630, test loss: 0.662 \n",
      "Epoch 61 ===> train loss: 0.629, test loss: 0.661 \n",
      "Epoch 62 ===> train loss: 0.629, test loss: 0.661 \n",
      "Epoch 63 ===> train loss: 0.630, test loss: 0.661 \n",
      "Epoch 64 ===> train loss: 0.629, test loss: 0.661 \n",
      "Epoch 65 ===> train loss: 0.631, test loss: 0.661 \n",
      "Epoch 66 ===> train loss: 0.629, test loss: 0.661 \n",
      "Epoch 67 ===> train loss: 0.628, test loss: 0.661 \n",
      "Epoch 68 ===> train loss: 0.628, test loss: 0.661 \n",
      "Epoch 69 ===> train loss: 0.628, test loss: 0.661 \n",
      "Epoch 70 ===> train loss: 0.628, test loss: 0.661 \n",
      "Epoch 71 ===> train loss: 0.628, test loss: 0.661 \n",
      "Epoch 72 ===> train loss: 0.627, test loss: 0.660 \n",
      "Epoch 73 ===> train loss: 0.627, test loss: 0.660 \n",
      "Epoch 74 ===> train loss: 0.627, test loss: 0.660 \n",
      "Epoch 75 ===> train loss: 0.626, test loss: 0.660 \n",
      "Epoch 76 ===> train loss: 0.626, test loss: 0.660 \n",
      "Epoch 77 ===> train loss: 0.626, test loss: 0.660 \n",
      "Epoch 78 ===> train loss: 0.627, test loss: 0.659 \n",
      "Epoch 79 ===> train loss: 0.627, test loss: 0.659 \n",
      "Epoch 80 ===> train loss: 0.625, test loss: 0.659 \n"
     ]
    }
   ],
   "source": [
    "opt_epoch_l, opt_training_loss_l , opt_test_loss_l = train(opt_model ,train_loader,test_loader, opt_criterion , opt_optimizer , num_epochs=80)"
   ]
  },
  {
   "cell_type": "markdown",
   "metadata": {},
   "source": [
    "# Results\n",
    "\n",
    "I set the threshold value to be 0.85, so that Recall value is maximized (according to our goal). "
   ]
  },
  {
   "cell_type": "code",
   "execution_count": 99,
   "metadata": {},
   "outputs": [],
   "source": [
    "ev, lables = return_evals_and_lables(opt_model, test_loader, opt_criterion ,opt_optimizer , thr=0.85)"
   ]
  },
  {
   "cell_type": "code",
   "execution_count": 100,
   "metadata": {},
   "outputs": [
    {
     "data": {
      "image/png": "[encoded data removed]",
      "text/plain": [
       "<Figure size 432x288 with 2 Axes>"
      ]
     },
     "metadata": {},
     "output_type": "display_data"
    }
   ],
   "source": [
    "cm = confusion_matrix(lables,ev)\n",
    "df_cm = pd.DataFrame(cm, range(2),range(2))\n",
    "sn.set(font_scale=1.4)\n",
    "sn.heatmap(df_cm, annot=True,annot_kws={\"size\": 16})# font size\n",
    "plt.title(\"Confusion matrix\")\n",
    "plt.show()"
   ]
  },
  {
   "cell_type": "code",
   "execution_count": 102,
   "metadata": {},
   "outputs": [
    {
     "name": "stdout",
     "output_type": "stream",
     "text": [
      "Accuracy: 0.5625\n",
      "Precision: 0.4166666666666667\n",
      "Recall: 1.0\n"
     ]
    }
   ],
   "source": [
    "print_model_results(lables,ev)"
   ]
  },
  {
   "cell_type": "markdown",
   "metadata": {},
   "source": [
    "# Conclusions\n",
    "\n",
    "* The model can be used as a decision maker for the chatbot with threshold value = 0.85.\n",
    "* Recall value is maximized (FN = 0, every response that should be referred is referred). \n",
    "* Precision results are not optimal (some of the responses that should not be referred are referred).\n",
    "\n",
    "\n",
    "\n",
    "\n",
    "\n",
    "     \n"
   ]
  },
  {
   "cell_type": "markdown",
   "metadata": {},
   "source": [
    "# Future work\n",
    "\n",
    "1. More ways to optimize the model should be examined: dropouts, hyper parameters optimization, different architectures.\n",
    "2. Get more data / create augmented data. 80 responses are not enough."
   ]
  }
 ],
 "metadata": {
  "kernelspec": {
   "display_name": "Python 3",
   "language": "python",
   "name": "python3"
  },
  "language_info": {
   "codemirror_mode": {
    "name": "ipython",
    "version": 3
   },
   "file_extension": ".py",
   "mimetype": "text/x-python",
   "name": "python",
   "nbconvert_exporter": "python",
   "pygments_lexer": "ipython3",
   "version": "3.7.1"
  },
  "toc": {
   "base_numbering": 1,
   "nav_menu": {},
   "number_sections": true,
   "sideBar": true,
   "skip_h1_title": false,
   "title_cell": "Table of Contents",
   "title_sidebar": "Contents",
   "toc_cell": false,
   "toc_position": {},
   "toc_section_display": true,
   "toc_window_display": true
  }
 },
 "nbformat": 4,
 "nbformat_minor": 2
}
